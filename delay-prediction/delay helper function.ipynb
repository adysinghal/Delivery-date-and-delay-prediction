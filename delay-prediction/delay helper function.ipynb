{
 "cells": [
  {
   "cell_type": "code",
   "execution_count": 4,
   "id": "335dbe97",
   "metadata": {},
   "outputs": [
    {
     "name": "stdout",
     "output_type": "stream",
     "text": [
      "[1, 1, 0, 1, 0, 0, 0, 0, 1, 0, 0, 0, 0, 0, 0, 0, 0, 0, 0, 0, 0, 0, 0, 0, 0, 0, 0, 0, 0, 0, 0, 0, 0, 0, 0, 0, 0, 0, 0, 0, 0, 0, 0, 0, 0, 0, 0, 0, 0, 0, 0, 0, 0, 0, 0, 0, 0, 0, 0, 0, 0, 0, 0, 0, 0, 0, 0, 0, 0, 0, 0, 0, 0, 0, 0, 0, 0, 0, 0, 0, 0, 0, 0, 0, 0, 0, 0, 1, 0, 0, 0, 0, 0, 0, 0, 0, 0, 0, 0, 0, 0, 0]\n"
     ]
    }
   ],
   "source": [
    "def convert_codes_to_count_array(codes_list):\n",
    "    # Define a dictionary to map code names to their corresponding indices in the count array\n",
    "    code_to_index = {\n",
    "        'ST-114': 0, 'X-UNEX': 1, 'CS-CSL': 2, 'DLYLH-105': 3, 'S-TAT2': 4, 'S-MAR': 5, 'EOD-38': 6, 'FMOFP-101': 7,\n",
    "        'CS-101': 8, 'CS-104': 9, 'DLYSHRTBAG-115': 10, 'EOD-6O': 11, 'EOD-11': 12, 'DLYLH-126': 13, 'DLYLH-133': 14,\n",
    "        'DLYLH-136': 15, 'DLYMR-118': 16, 'DLYRG-125': 17, 'X-OLL2F': 18, 'DTUP-205': 19, 'EOD-105': 20, 'EOD-137': 21,\n",
    "        'EOD-86': 22, 'DLYLH-106': 23, 'X-DBFR': 24, 'DLYLH-115': 25, 'EOD-3': 26, 'DLYLH-152': 27, 'DTUP-219': 28,\n",
    "        'DLYB2B-108': 29, 'FMEOD-152': 30, 'RT-108': 31, 'ST-108': 32, 'ST-107': 33, 'ST-115': 34, 'DLYDC-107': 35,\n",
    "        'EOD-138': 36, 'EOD-6': 37, 'EOD-111': 38, 'DLYDC-101': 39, 'DOFF-128': 40, 'EOD-74': 41, 'X-PNP': 42,\n",
    "        'DTUP-210': 43, 'RT-113': 44, 'DLYSOR-101': 45, 'RT-101': 46, 'ST-117': 47, 'DTUP-204': 48, 'DLYRG-135': 49,\n",
    "        'ST-110': 50, 'DLYHD-007': 51, 'DLYLH-104': 52, 'DLYSU-100': 53, 'ST-116': 54, 'DLYLH-151': 55, 'ST-NTL': 56,\n",
    "        'ST-102': 57, 'DTUP-207': 58, 'EOD-36': 59, 'DLYRG-130': 60, 'X-SC': 61, 'EOD-37': 62, 'EOD-104': 63,\n",
    "        'ST-NT': 64, 'DTUP-235': 65, 'ST-105': 66, 'CL-106': 67, 'DLYDG-120': 68, 'DTUP-213': 69, 'EOD-69': 70,\n",
    "        'DLYDG-119': 71, 'EOD-600': 72, 'S-XIN': 73, 'FMEOD-103': 74, 'DLYDC-109': 75, 'DLYDC-102': 76, 'EOD-43': 77,\n",
    "        'DLYLH-146': 78, 'DLYRG-132': 79, 'DTUP-ZL': 80, 'U-FD': 81, 'L-FD': 82, 'DLYDC-105': 83, 'DTUP-209': 84,\n",
    "        'DTUP-203': 85, 'X-PROM': 86, 'DLYRG-120': 87, 'DLYRPC-417': 88, 'EOD-15': 89, 'EOD-40': 90, 'DLYB2B-101': 91,\n",
    "        'S-MDIN': 92, 'DLYLH-101': 93, 'X-AWD': 94, 'FMEOD-106': 95, 'U-PMA': 96, 'L-PMA': 97, 'EOD-83': 98,\n",
    "        'X-RWD': 99, 'U-EOD': 100, 'S-MNAR': 101\n",
    "    }\n",
    "\n",
    "    # Initialize the count array with zeros\n",
    "    count_array = [0] * 102\n",
    "\n",
    "    # Count occurrences of each code in the list\n",
    "    for code in codes_list:\n",
    "        if code in code_to_index:\n",
    "            index = code_to_index[code]\n",
    "            count_array[index] += 1\n",
    "\n",
    "    return count_array\n",
    "\n",
    "\n",
    "# Example usage:\n",
    "codes_list = ['ST-114', 'X-UNEX', 'CS-101', 'DLYLH-105', 'DLYRG-120']\n",
    "result = convert_codes_to_count_array(codes_list)\n",
    "print(result)\n",
    "\n",
    "l1 = [110091, 66, convert_codes_to_count_array(codes_list)]\n",
    "# print(l1)"
   ]
  },
  {
   "cell_type": "code",
   "execution_count": null,
   "id": "b58d07f8",
   "metadata": {},
   "outputs": [],
   "source": []
  },
  {
   "cell_type": "code",
   "execution_count": null,
   "id": "20caa926",
   "metadata": {},
   "outputs": [],
   "source": []
  }
 ],
 "metadata": {
  "kernelspec": {
   "display_name": "Python 3 (ipykernel)",
   "language": "python",
   "name": "python3"
  },
  "language_info": {
   "codemirror_mode": {
    "name": "ipython",
    "version": 3
   },
   "file_extension": ".py",
   "mimetype": "text/x-python",
   "name": "python",
   "nbconvert_exporter": "python",
   "pygments_lexer": "ipython3",
   "version": "3.11.4"
  }
 },
 "nbformat": 4,
 "nbformat_minor": 5
}
